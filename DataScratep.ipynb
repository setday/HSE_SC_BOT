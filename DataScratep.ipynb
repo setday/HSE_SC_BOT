{
 "cells": [
  {
   "cell_type": "code",
   "execution_count": 1,
   "metadata": {},
   "outputs": [],
   "source": [
    "import pickle\n",
    "\n",
    "user_storage = None\n",
    "try:\n",
    "    with open(\"Data/user_storage.pickle\", \"rb\") as f:\n",
    "        user_storage = pickle.load(f)\n",
    "except FileNotFoundError:\n",
    "    print(\"No data found. Creating new storage...\")"
   ]
  },
  {
   "cell_type": "code",
   "execution_count": 39,
   "metadata": {},
   "outputs": [],
   "source": [
    "from Utils.BotStorage import BotStorage"
   ]
  },
  {
   "cell_type": "code",
   "execution_count": 40,
   "metadata": {},
   "outputs": [],
   "source": [
    "for key in user_storage.storage:\n",
    "    if user_storage.storage[key].data.get(\"request_queue\", None):\n",
    "        for req in user_storage.storage[key].data[\"request_queue\"]:\n",
    "            [number, date, request, topic] = req.values()\n",
    "            BotStorage().add_request({\n",
    "                \"request_id\": number,\n",
    "                \"date\": date,\n",
    "                \"user_id\": key.user_id,\n",
    "                \"topic\": topic,\n",
    "                \"request\": request,\n",
    "            }, number)"
   ]
  },
  {
   "cell_type": "code",
   "execution_count": 42,
   "metadata": {},
   "outputs": [
    {
     "name": "stdout",
     "output_type": "stream",
     "text": [
      "No dispatcher found\n"
     ]
    }
   ],
   "source": [
    "BotStorage().unload_data(None)"
   ]
  }
 ],
 "metadata": {
  "kernelspec": {
   "display_name": "Python 3",
   "language": "python",
   "name": "python3"
  },
  "language_info": {
   "codemirror_mode": {
    "name": "ipython",
    "version": 3
   },
   "file_extension": ".py",
   "mimetype": "text/x-python",
   "name": "python",
   "nbconvert_exporter": "python",
   "pygments_lexer": "ipython3",
   "version": "3.11.3"
  }
 },
 "nbformat": 4,
 "nbformat_minor": 2
}
